{
 "cells": [
  {
   "cell_type": "code",
   "execution_count": null,
   "metadata": {
    "execution": {
     "iopub.execute_input": "2025-02-24T22:09:49.292122Z",
     "iopub.status.busy": "2025-02-24T22:09:49.291735Z",
     "iopub.status.idle": "2025-02-24T22:48:55.077958Z",
     "shell.execute_reply": "2025-02-24T22:48:55.077111Z",
     "shell.execute_reply.started": "2025-02-24T22:09:49.292090Z"
    },
    "trusted": true
   },
   "outputs": [
    {
     "name": "stdout",
     "output_type": "stream",
     "text": [
      "Requirement already satisfied: torch in /usr/local/lib/python3.10/dist-packages (2.5.1+cu121)\n",
      "Requirement already satisfied: nltk in /usr/local/lib/python3.10/dist-packages (3.2.4)\n",
      "Requirement already satisfied: pandas in /usr/local/lib/python3.10/dist-packages (2.2.3)\n",
      "Requirement already satisfied: scipy in /usr/local/lib/python3.10/dist-packages (1.13.1)\n",
      "Requirement already satisfied: numpy in /usr/local/lib/python3.10/dist-packages (1.26.4)\n",
      "Requirement already satisfied: tqdm in /usr/local/lib/python3.10/dist-packages (4.67.1)\n",
      "Requirement already satisfied: filelock in /usr/local/lib/python3.10/dist-packages (from torch) (3.17.0)\n",
      "Requirement already satisfied: typing-extensions>=4.8.0 in /usr/local/lib/python3.10/dist-packages (from torch) (4.12.2)\n",
      "Requirement already satisfied: networkx in /usr/local/lib/python3.10/dist-packages (from torch) (3.4.2)\n",
      "Requirement already satisfied: jinja2 in /usr/local/lib/python3.10/dist-packages (from torch) (3.1.4)\n",
      "Requirement already satisfied: fsspec in /usr/local/lib/python3.10/dist-packages (from torch) (2024.12.0)\n",
      "Requirement already satisfied: sympy==1.13.1 in /usr/local/lib/python3.10/dist-packages (from torch) (1.13.1)\n",
      "Requirement already satisfied: mpmath<1.4,>=1.1.0 in /usr/local/lib/python3.10/dist-packages (from sympy==1.13.1->torch) (1.3.0)\n",
      "Requirement already satisfied: six in /usr/local/lib/python3.10/dist-packages (from nltk) (1.17.0)\n",
      "Requirement already satisfied: python-dateutil>=2.8.2 in /usr/local/lib/python3.10/dist-packages (from pandas) (2.9.0.post0)\n",
      "Requirement already satisfied: pytz>=2020.1 in /usr/local/lib/python3.10/dist-packages (from pandas) (2025.1)\n",
      "Requirement already satisfied: tzdata>=2022.7 in /usr/local/lib/python3.10/dist-packages (from pandas) (2025.1)\n",
      "Requirement already satisfied: mkl_fft in /usr/local/lib/python3.10/dist-packages (from numpy) (1.3.8)\n",
      "Requirement already satisfied: mkl_random in /usr/local/lib/python3.10/dist-packages (from numpy) (1.2.4)\n",
      "Requirement already satisfied: mkl_umath in /usr/local/lib/python3.10/dist-packages (from numpy) (0.1.1)\n",
      "Requirement already satisfied: mkl in /usr/local/lib/python3.10/dist-packages (from numpy) (2025.0.1)\n",
      "Requirement already satisfied: tbb4py in /usr/local/lib/python3.10/dist-packages (from numpy) (2022.0.0)\n",
      "Requirement already satisfied: mkl-service in /usr/local/lib/python3.10/dist-packages (from numpy) (2.4.1)\n",
      "Requirement already satisfied: MarkupSafe>=2.0 in /usr/local/lib/python3.10/dist-packages (from jinja2->torch) (3.0.2)\n",
      "Requirement already satisfied: intel-openmp>=2024 in /usr/local/lib/python3.10/dist-packages (from mkl->numpy) (2024.2.0)\n",
      "Requirement already satisfied: tbb==2022.* in /usr/local/lib/python3.10/dist-packages (from mkl->numpy) (2022.0.0)\n",
      "Requirement already satisfied: tcmlib==1.* in /usr/local/lib/python3.10/dist-packages (from tbb==2022.*->mkl->numpy) (1.2.0)\n",
      "Requirement already satisfied: intel-cmplr-lib-rt in /usr/local/lib/python3.10/dist-packages (from mkl_umath->numpy) (2024.2.0)\n",
      "Requirement already satisfied: intel-cmplr-lib-ur==2024.2.0 in /usr/local/lib/python3.10/dist-packages (from intel-openmp>=2024->mkl->numpy) (2024.2.0)\n",
      "[nltk_data] Downloading package brown to /usr/share/nltk_data...\n",
      "[nltk_data]   Package brown is already up-to-date!\n",
      "Using device: cuda\n",
      "Vocabulary size: 13366\n"
     ]
    },
    {
     "name": "stderr",
     "output_type": "stream",
     "text": [
      "Building co-occurrence matrix: 100%|██████████| 57340/57340 [00:47<00:00, 1200.51it/s]\n"
     ]
    },
    {
     "name": "stdout",
     "output_type": "stream",
     "text": [
      "Computing Truncated SVD...\n"
     ]
    },
    {
     "name": "stderr",
     "output_type": "stream",
     "text": [
      "CBOW Data: 100%|██████████| 57340/57340 [00:04<00:00, 11771.22it/s]\n"
     ]
    },
    {
     "name": "stdout",
     "output_type": "stream",
     "text": [
      "\n",
      "Training CBOW...\n"
     ]
    },
    {
     "name": "stderr",
     "output_type": "stream",
     "text": [
      "100%|██████████| 1826/1826 [00:20<00:00, 88.75it/s]\n"
     ]
    },
    {
     "name": "stdout",
     "output_type": "stream",
     "text": [
      "Epoch 1 Loss: 1.2125\n"
     ]
    },
    {
     "name": "stderr",
     "output_type": "stream",
     "text": [
      "100%|██████████| 1826/1826 [00:20<00:00, 89.84it/s]\n"
     ]
    },
    {
     "name": "stdout",
     "output_type": "stream",
     "text": [
      "Epoch 2 Loss: 1.0654\n"
     ]
    },
    {
     "name": "stderr",
     "output_type": "stream",
     "text": [
      "100%|██████████| 1826/1826 [00:20<00:00, 88.93it/s]\n"
     ]
    },
    {
     "name": "stdout",
     "output_type": "stream",
     "text": [
      "Epoch 3 Loss: 0.9835\n"
     ]
    },
    {
     "name": "stderr",
     "output_type": "stream",
     "text": [
      "100%|██████████| 1826/1826 [00:20<00:00, 88.15it/s]\n"
     ]
    },
    {
     "name": "stdout",
     "output_type": "stream",
     "text": [
      "Epoch 4 Loss: 0.9233\n"
     ]
    },
    {
     "name": "stderr",
     "output_type": "stream",
     "text": [
      "100%|██████████| 1826/1826 [00:20<00:00, 89.70it/s]\n"
     ]
    },
    {
     "name": "stdout",
     "output_type": "stream",
     "text": [
      "Epoch 5 Loss: 0.8738\n"
     ]
    },
    {
     "name": "stderr",
     "output_type": "stream",
     "text": [
      "100%|██████████| 1826/1826 [00:20<00:00, 89.06it/s]\n"
     ]
    },
    {
     "name": "stdout",
     "output_type": "stream",
     "text": [
      "Epoch 6 Loss: 0.8310\n"
     ]
    },
    {
     "name": "stderr",
     "output_type": "stream",
     "text": [
      "100%|██████████| 1826/1826 [00:20<00:00, 89.80it/s]\n"
     ]
    },
    {
     "name": "stdout",
     "output_type": "stream",
     "text": [
      "Epoch 7 Loss: 0.7931\n"
     ]
    },
    {
     "name": "stderr",
     "output_type": "stream",
     "text": [
      "100%|██████████| 1826/1826 [00:20<00:00, 88.05it/s]\n"
     ]
    },
    {
     "name": "stdout",
     "output_type": "stream",
     "text": [
      "Epoch 8 Loss: 0.7584\n"
     ]
    },
    {
     "name": "stderr",
     "output_type": "stream",
     "text": [
      "100%|██████████| 1826/1826 [00:20<00:00, 88.27it/s]\n"
     ]
    },
    {
     "name": "stdout",
     "output_type": "stream",
     "text": [
      "Epoch 9 Loss: 0.7268\n"
     ]
    },
    {
     "name": "stderr",
     "output_type": "stream",
     "text": [
      "100%|██████████| 1826/1826 [00:20<00:00, 89.66it/s]\n"
     ]
    },
    {
     "name": "stdout",
     "output_type": "stream",
     "text": [
      "Epoch 10 Loss: 0.6975\n"
     ]
    },
    {
     "name": "stderr",
     "output_type": "stream",
     "text": [
      "100%|██████████| 1826/1826 [00:20<00:00, 88.66it/s]\n"
     ]
    },
    {
     "name": "stdout",
     "output_type": "stream",
     "text": [
      "Epoch 11 Loss: 0.6704\n"
     ]
    },
    {
     "name": "stderr",
     "output_type": "stream",
     "text": [
      "100%|██████████| 1826/1826 [00:20<00:00, 88.24it/s]\n"
     ]
    },
    {
     "name": "stdout",
     "output_type": "stream",
     "text": [
      "Epoch 12 Loss: 0.6450\n"
     ]
    },
    {
     "name": "stderr",
     "output_type": "stream",
     "text": [
      "100%|██████████| 1826/1826 [00:20<00:00, 89.45it/s]\n"
     ]
    },
    {
     "name": "stdout",
     "output_type": "stream",
     "text": [
      "Epoch 13 Loss: 0.6211\n"
     ]
    },
    {
     "name": "stderr",
     "output_type": "stream",
     "text": [
      "100%|██████████| 1826/1826 [00:20<00:00, 88.66it/s]\n"
     ]
    },
    {
     "name": "stdout",
     "output_type": "stream",
     "text": [
      "Epoch 14 Loss: 0.5988\n"
     ]
    },
    {
     "name": "stderr",
     "output_type": "stream",
     "text": [
      "100%|██████████| 1826/1826 [00:20<00:00, 89.07it/s]\n"
     ]
    },
    {
     "name": "stdout",
     "output_type": "stream",
     "text": [
      "Epoch 15 Loss: 0.5775\n"
     ]
    },
    {
     "name": "stderr",
     "output_type": "stream",
     "text": [
      "100%|██████████| 1826/1826 [00:20<00:00, 89.93it/s]\n"
     ]
    },
    {
     "name": "stdout",
     "output_type": "stream",
     "text": [
      "Epoch 16 Loss: 0.5576\n"
     ]
    },
    {
     "name": "stderr",
     "output_type": "stream",
     "text": [
      "100%|██████████| 1826/1826 [00:20<00:00, 88.64it/s]\n"
     ]
    },
    {
     "name": "stdout",
     "output_type": "stream",
     "text": [
      "Epoch 17 Loss: 0.5391\n"
     ]
    },
    {
     "name": "stderr",
     "output_type": "stream",
     "text": [
      "100%|██████████| 1826/1826 [00:20<00:00, 88.82it/s]\n"
     ]
    },
    {
     "name": "stdout",
     "output_type": "stream",
     "text": [
      "Epoch 18 Loss: 0.5212\n"
     ]
    },
    {
     "name": "stderr",
     "output_type": "stream",
     "text": [
      "100%|██████████| 1826/1826 [00:20<00:00, 89.84it/s]\n"
     ]
    },
    {
     "name": "stdout",
     "output_type": "stream",
     "text": [
      "Epoch 19 Loss: 0.5045\n"
     ]
    },
    {
     "name": "stderr",
     "output_type": "stream",
     "text": [
      "100%|██████████| 1826/1826 [00:20<00:00, 89.41it/s]\n"
     ]
    },
    {
     "name": "stdout",
     "output_type": "stream",
     "text": [
      "Epoch 20 Loss: 0.4889\n"
     ]
    },
    {
     "name": "stderr",
     "output_type": "stream",
     "text": [
      "SkipGram Data: 100%|██████████| 57340/57340 [00:03<00:00, 15691.68it/s]\n"
     ]
    },
    {
     "name": "stdout",
     "output_type": "stream",
     "text": [
      "\n",
      "Training SkipGram...\n"
     ]
    },
    {
     "name": "stderr",
     "output_type": "stream",
     "text": [
      "Epoch 1: 100%|██████████| 9655/9655 [01:32<00:00, 104.27it/s]\n"
     ]
    },
    {
     "name": "stdout",
     "output_type": "stream",
     "text": [
      "Loss: 1.2278\n"
     ]
    },
    {
     "name": "stderr",
     "output_type": "stream",
     "text": [
      "Epoch 2: 100%|██████████| 9655/9655 [01:32<00:00, 104.33it/s]\n"
     ]
    },
    {
     "name": "stdout",
     "output_type": "stream",
     "text": [
      "Loss: 1.1387\n"
     ]
    },
    {
     "name": "stderr",
     "output_type": "stream",
     "text": [
      "Epoch 3: 100%|██████████| 9655/9655 [01:32<00:00, 104.30it/s]\n"
     ]
    },
    {
     "name": "stdout",
     "output_type": "stream",
     "text": [
      "Loss: 1.0718\n"
     ]
    },
    {
     "name": "stderr",
     "output_type": "stream",
     "text": [
      "Epoch 4: 100%|██████████| 9655/9655 [01:32<00:00, 104.18it/s]\n"
     ]
    },
    {
     "name": "stdout",
     "output_type": "stream",
     "text": [
      "Loss: 1.0284\n"
     ]
    },
    {
     "name": "stderr",
     "output_type": "stream",
     "text": [
      "Epoch 5: 100%|██████████| 9655/9655 [01:32<00:00, 104.67it/s]\n"
     ]
    },
    {
     "name": "stdout",
     "output_type": "stream",
     "text": [
      "Loss: 1.0033\n"
     ]
    },
    {
     "name": "stderr",
     "output_type": "stream",
     "text": [
      "Epoch 6: 100%|██████████| 9655/9655 [01:32<00:00, 104.76it/s]\n"
     ]
    },
    {
     "name": "stdout",
     "output_type": "stream",
     "text": [
      "Loss: 0.9880\n"
     ]
    },
    {
     "name": "stderr",
     "output_type": "stream",
     "text": [
      "Epoch 7: 100%|██████████| 9655/9655 [01:32<00:00, 104.21it/s]\n"
     ]
    },
    {
     "name": "stdout",
     "output_type": "stream",
     "text": [
      "Loss: 0.9778\n"
     ]
    },
    {
     "name": "stderr",
     "output_type": "stream",
     "text": [
      "Epoch 8: 100%|██████████| 9655/9655 [01:32<00:00, 104.63it/s]\n"
     ]
    },
    {
     "name": "stdout",
     "output_type": "stream",
     "text": [
      "Loss: 0.9706\n"
     ]
    },
    {
     "name": "stderr",
     "output_type": "stream",
     "text": [
      "Epoch 9: 100%|██████████| 9655/9655 [01:32<00:00, 104.88it/s]\n"
     ]
    },
    {
     "name": "stdout",
     "output_type": "stream",
     "text": [
      "Loss: 0.9652\n"
     ]
    },
    {
     "name": "stderr",
     "output_type": "stream",
     "text": [
      "Epoch 10: 100%|██████████| 9655/9655 [01:32<00:00, 103.95it/s]\n"
     ]
    },
    {
     "name": "stdout",
     "output_type": "stream",
     "text": [
      "Loss: 0.9611\n"
     ]
    },
    {
     "name": "stderr",
     "output_type": "stream",
     "text": [
      "Epoch 11: 100%|██████████| 9655/9655 [01:32<00:00, 104.25it/s]\n"
     ]
    },
    {
     "name": "stdout",
     "output_type": "stream",
     "text": [
      "Loss: 0.9580\n"
     ]
    },
    {
     "name": "stderr",
     "output_type": "stream",
     "text": [
      "Epoch 12: 100%|██████████| 9655/9655 [01:31<00:00, 105.12it/s]\n"
     ]
    },
    {
     "name": "stdout",
     "output_type": "stream",
     "text": [
      "Loss: 0.9554\n"
     ]
    },
    {
     "name": "stderr",
     "output_type": "stream",
     "text": [
      "Epoch 13: 100%|██████████| 9655/9655 [01:32<00:00, 104.47it/s]\n"
     ]
    },
    {
     "name": "stdout",
     "output_type": "stream",
     "text": [
      "Loss: 0.9533\n"
     ]
    },
    {
     "name": "stderr",
     "output_type": "stream",
     "text": [
      "Epoch 14: 100%|██████████| 9655/9655 [01:33<00:00, 102.96it/s]\n"
     ]
    },
    {
     "name": "stdout",
     "output_type": "stream",
     "text": [
      "Loss: 0.9515\n"
     ]
    },
    {
     "name": "stderr",
     "output_type": "stream",
     "text": [
      "Epoch 15: 100%|██████████| 9655/9655 [01:34<00:00, 102.45it/s]\n"
     ]
    },
    {
     "name": "stdout",
     "output_type": "stream",
     "text": [
      "Loss: 0.9500\n"
     ]
    },
    {
     "name": "stderr",
     "output_type": "stream",
     "text": [
      "Epoch 16: 100%|██████████| 9655/9655 [01:33<00:00, 103.23it/s]\n"
     ]
    },
    {
     "name": "stdout",
     "output_type": "stream",
     "text": [
      "Loss: 0.9487\n"
     ]
    },
    {
     "name": "stderr",
     "output_type": "stream",
     "text": [
      "Epoch 17: 100%|██████████| 9655/9655 [01:33<00:00, 103.64it/s]\n"
     ]
    },
    {
     "name": "stdout",
     "output_type": "stream",
     "text": [
      "Loss: 0.9476\n"
     ]
    },
    {
     "name": "stderr",
     "output_type": "stream",
     "text": [
      "Epoch 18: 100%|██████████| 9655/9655 [01:33<00:00, 103.52it/s]\n"
     ]
    },
    {
     "name": "stdout",
     "output_type": "stream",
     "text": [
      "Loss: 0.9466\n"
     ]
    },
    {
     "name": "stderr",
     "output_type": "stream",
     "text": [
      "Epoch 19: 100%|██████████| 9655/9655 [01:33<00:00, 103.67it/s]\n"
     ]
    },
    {
     "name": "stdout",
     "output_type": "stream",
     "text": [
      "Loss: 0.9459\n"
     ]
    },
    {
     "name": "stderr",
     "output_type": "stream",
     "text": [
      "Epoch 20: 100%|██████████| 9655/9655 [01:32<00:00, 104.45it/s]\n"
     ]
    },
    {
     "name": "stdout",
     "output_type": "stream",
     "text": [
      "Loss: 0.9451\n",
      "SVD: Spearman ρ: 0.2408 | Valid pairs: 274/353\n",
      "CBOW: Spearman ρ: 0.3261 | Valid pairs: 274/353\n",
      "SkipGram: Spearman ρ: 0.4084 | Valid pairs: 274/353\n"
     ]
    },
    {
     "name": "stderr",
     "output_type": "stream",
     "text": [
      "<ipython-input-2-7a0e2d70d3ab>:345: FutureWarning: You are using `torch.load` with `weights_only=False` (the current default value), which uses the default pickle module implicitly. It is possible to construct malicious pickle data which will execute arbitrary code during unpickling (See https://github.com/pytorch/pytorch/blob/main/SECURITY.md#untrusted-models for more details). In a future release, the default value for `weights_only` will be flipped to `True`. This limits the functions that could be executed during unpickling. Arbitrary objects will no longer be allowed to be loaded via this mode unless they are explicitly allowlisted by the user via `torch.serialization.add_safe_globals`. We recommend you start setting `weights_only=True` for any use case where you don't have full control of the loaded file. Please open an issue on GitHub for any issues related to this experimental feature.\n",
      "  skipgram_emb = torch.load('skipgram.pt')\n"
     ]
    },
    {
     "data": {
      "text/plain": [
       "(0.4083626589118093, 274)"
      ]
     },
     "execution_count": 2,
     "metadata": {},
     "output_type": "execute_result"
    }
   ],
   "source": [
    "# Install required libraries\n",
    "# !pip install torch nltk pandas scipy numpy tqdm\n",
    "\n",
    "# Download Brown corpus\n",
    "import nltk\n",
    "nltk.download('brown')\n",
    "\n",
    "# Imports\n",
    "import numpy as np\n",
    "import torch\n",
    "import os\n",
    "import torch.nn as nn\n",
    "import torch.nn.functional as F\n",
    "import pandas as pd\n",
    "from scipy.sparse import lil_matrix\n",
    "from scipy.stats import spearmanr\n",
    "from scipy.sparse.linalg import svds\n",
    "from nltk.corpus import brown\n",
    "from collections import Counter\n",
    "from tqdm import tqdm\n",
    "import torch.optim as optim\n",
    "from torch.utils.data import Dataset, DataLoader\n",
    "\n",
    "# CUDA setup\n",
    "device = torch.device(\"cuda\" if torch.cuda.is_available() else \"cpu\")\n",
    "print(f\"Using device: {device}\")\n",
    "\n",
    "# ======================\n",
    "# 1. Preprocessing\n",
    "# ======================\n",
    "def preprocess_corpus(min_freq=5):  # Lowered from 10\n",
    "    sentences = brown.sents()\n",
    "    words = [word.lower() for sentence in sentences for word in sentence if word.isalpha()]\n",
    "    word_counts = Counter(words)\n",
    "    vocab = [word for word, count in word_counts.items() if count >= min_freq]\n",
    "    word2id = {word: i for i, word in enumerate(vocab)}\n",
    "    id2word = {i: word for word, i in word2id.items()}\n",
    "    return word2id, id2word, vocab\n",
    "\n",
    "word2id, id2word, vocab = preprocess_corpus()\n",
    "vocab_size = len(vocab)\n",
    "embed_dim = 200  # Increased from 100\n",
    "window_size = 3   # Increased from 3\n",
    "print(f\"Vocabulary size: {vocab_size}\")\n",
    "\n",
    "# ======================\n",
    "# 2. SVD with PMI\n",
    "# ======================\n",
    "def build_co_matrix():\n",
    "    matrix = lil_matrix((vocab_size, vocab_size), dtype=np.float32)\n",
    "    \n",
    "    for sentence in tqdm(brown.sents(), desc=\"Building co-occurrence matrix\"):\n",
    "        sentence = [word.lower() for word in sentence if word.isalpha()]\n",
    "        sentence_ids = [word2id[word] for word in sentence if word in word2id]\n",
    "        \n",
    "        for i in range(len(sentence_ids)):\n",
    "            target = sentence_ids[i]\n",
    "            context_ids = sentence_ids[max(0, i - window_size):i] + sentence_ids[i + 1:i + window_size + 1]\n",
    "\n",
    "            for j, ctx in enumerate(context_ids):\n",
    "                distance = abs(i - j)\n",
    "                weight = 1.0 / distance if distance > 0 else 1.0  # Inverse distance weighting\n",
    "                matrix[target, ctx] += weight\n",
    "\n",
    "    # Convert to CSR format before PMI calculations\n",
    "    matrix = matrix.tocsr()\n",
    "\n",
    "    # PMI calculation with epsilon to prevent division errors\n",
    "    row_sums = np.array(matrix.sum(axis=1)).flatten() + 1e-8\n",
    "    col_sums = np.array(matrix.sum(axis=0)).flatten() + 1e-8\n",
    "    total = matrix.sum()\n",
    "\n",
    "    matrix = matrix.multiply(total) / (row_sums[:, None] * col_sums[None, :])\n",
    "    matrix.data = np.log(np.maximum(matrix.data, 1e-8))  # Prevent negative logs\n",
    "\n",
    "    return matrix\n",
    "\n",
    "\n",
    "# Compute SVD\n",
    "co_matrix = build_co_matrix()\n",
    "print(\"Computing Truncated SVD...\")\n",
    "\n",
    "U, S, Vt = svds(co_matrix, k=embed_dim)\n",
    "idx = np.argsort(-S)  # Sort in descending order\n",
    "S = S[idx]\n",
    "U = U[:, idx]\n",
    "\n",
    "# Convert to torch tensor and normalize embeddings\n",
    "svd_embeddings = torch.from_numpy(U).float()\n",
    "svd_embeddings = F.normalize(svd_embeddings, p=2, dim=1)\n",
    "\n",
    "# Save the embeddings\n",
    "torch.save(svd_embeddings, 'svd.pt')\n",
    "\n",
    "# ======================\n",
    "# 3. CBOW with Negative Sampling\n",
    "# ======================\n",
    "\n",
    "from collections import Counter\n",
    "\n",
    "word_freq = Counter()\n",
    "for sentence in brown.sents():\n",
    "    words = [word.lower() for word in sentence if word.isalpha()]\n",
    "    word_freq.update(words)\n",
    "\n",
    "# Convert to dictionary with word IDs\n",
    "word_freq = {word2id[word]: freq for word, freq in word_freq.items() if word in word2id}\n",
    "\n",
    "class CBOWDataset(Dataset):\n",
    "    def __init__(self):\n",
    "        self.data = []\n",
    "        for sentence in tqdm(brown.sents(), desc=\"CBOW Data\"):\n",
    "            sentence = [word.lower() for word in sentence if word.isalpha()]\n",
    "            sentence_ids = [word2id[word] for word in sentence if word in word2id]\n",
    "            for i in range(len(sentence_ids)):\n",
    "                target = sentence_ids[i]\n",
    "                context = sentence_ids[max(0,i-window_size):i] + sentence_ids[i+1:i+window_size+1]\n",
    "                if context:\n",
    "                    self.data.append((context, target))\n",
    "\n",
    "    def __len__(self): return len(self.data)\n",
    "    \n",
    "    def __getitem__(self, idx):\n",
    "        context, target = self.data[idx]\n",
    "        return torch.tensor(context), torch.tensor(target)\n",
    "\n",
    "class CBOW(nn.Module):\n",
    "    def __init__(self, num_neg=25):\n",
    "        super().__init__()\n",
    "        self.in_emb = nn.Embedding(vocab_size, embed_dim)\n",
    "        self.out_emb = nn.Embedding(vocab_size, embed_dim)\n",
    "        \n",
    "        nn.init.xavier_uniform_(self.in_emb.weight)\n",
    "        nn.init.xavier_uniform_(self.out_emb.weight)\n",
    "\n",
    "        self.num_neg = num_neg\n",
    "\n",
    "    def forward(self, contexts, targets):\n",
    "        batch_size = targets.size(0)\n",
    "        \n",
    "        mask = (contexts != 0).unsqueeze(-1).float()\n",
    "        ctx_emb = (self.in_emb(contexts) * mask).mean(dim=1)\n",
    "\n",
    "        pos_scores = (self.out_emb(targets) * ctx_emb).sum(dim=-1)\n",
    "\n",
    "        # Negative samples\n",
    "        unigram_dist = torch.tensor([word_freq.get(i, 1e-5) ** 0.75 for i in range(vocab_size)], device=device)\n",
    "        unigram_dist /= unigram_dist.sum()\n",
    "    \n",
    "        noise = torch.multinomial(unigram_dist, batch_size * self.num_neg, replacement=True).view(batch_size, self.num_neg)\n",
    " \n",
    "        neg_scores = (self.out_emb(noise) * ctx_emb.unsqueeze(1)).sum(dim=-1)\n",
    "\n",
    "        pos_loss = F.logsigmoid(pos_scores).mean()\n",
    "        neg_loss = F.logsigmoid(-neg_scores).mean()\n",
    "        return -(pos_loss + neg_loss)\n",
    "\n",
    "# Optimized DataLoader\n",
    "def collate_cbow(batch):\n",
    "    contexts, targets = zip(*batch)\n",
    "    # Pad contexts to equal length\n",
    "    max_len = max(len(c) for c in contexts)\n",
    "    padded = [torch.cat([c, torch.zeros(max_len-len(c), dtype=torch.long)]) for c in contexts]\n",
    "    return torch.stack(padded), torch.stack(targets)\n",
    "\n",
    "# Training\n",
    "model = CBOW().to(device)\n",
    "optimizer = optim.Adam(model.parameters(), lr=0.001)\n",
    "dataset = CBOWDataset()\n",
    "dataloader = DataLoader(dataset, batch_size=512, shuffle=True, \n",
    "                       collate_fn=collate_cbow, pin_memory=True,\n",
    "                       num_workers=os.cpu_count())\n",
    "\n",
    "print(\"\\nTraining CBOW...\")\n",
    "for epoch in range(20):\n",
    "    model.train()\n",
    "    total_loss = 0\n",
    "    for contexts, targets in tqdm(dataloader):\n",
    "        contexts, targets = contexts.to(device), targets.to(device)\n",
    "        \n",
    "        optimizer.zero_grad()\n",
    "        loss = model(contexts, targets)\n",
    "        loss.backward()\n",
    "        optimizer.step()\n",
    "        total_loss += loss.item()\n",
    "    \n",
    "    print(f\"Epoch {epoch+1} Loss: {total_loss/len(dataloader):.4f}\")\n",
    "\n",
    "# Save embeddings (average input/output)\n",
    "cbow_emb = (model.in_emb.weight + model.out_emb.weight).cpu() / 2\n",
    "cbow_emb = ((model.in_emb.weight + model.out_emb.weight) / 2).detach().cpu()\n",
    "\n",
    "torch.save(cbow_emb, 'cbow.pt')\n",
    "\n",
    "# ======================\n",
    "# 4. Skip-Gram with Negative Sampling\n",
    "# ======================\n",
    "class SkipGramDataset(Dataset):\n",
    "    def __init__(self):\n",
    "        self.data = []\n",
    "        for sentence in tqdm(brown.sents(), desc=\"SkipGram Data\"):\n",
    "            sentence = [word.lower() for word in sentence if word.isalpha()]\n",
    "            sentence_ids = [word2id[word] for word in sentence if word in word2id]\n",
    "            self.data.extend(\n",
    "                (sentence_ids[i], ctx) \n",
    "                for i in range(len(sentence_ids)) \n",
    "                for ctx in (sentence_ids[max(0, i - window_size):i] + \n",
    "                            sentence_ids[i + 1: i + window_size + 1])\n",
    "            )\n",
    "\n",
    "    def __len__(self):\n",
    "        return len(self.data)\n",
    "\n",
    "    def __getitem__(self, idx):\n",
    "        target, context = self.data[idx]\n",
    "        return torch.tensor(target, dtype=torch.long), torch.tensor(context, dtype=torch.long)\n",
    "# Ensure vocab_size is correctly set to the size of word2id\n",
    "vocab_size = len(word2id) \n",
    "class SkipGram(nn.Module):\n",
    "    def __init__(self):\n",
    "        super().__init__()\n",
    "        self.in_emb = nn.Embedding(vocab_size, embed_dim)\n",
    "        self.out_emb = nn.Embedding(vocab_size, embed_dim)\n",
    "        nn.init.xavier_uniform_(self.in_emb.weight)\n",
    "        nn.init.xavier_uniform_(self.out_emb.weight)\n",
    "\n",
    "    def forward(self, targets, contexts, num_neg=25):\n",
    "        batch_size = targets.size(0)\n",
    "        target_emb = self.in_emb(targets)  # (batch_size, embed_dim)\n",
    "        \n",
    "        # Positive sample loss\n",
    "        pos_scores = (self.out_emb(contexts) * target_emb).sum(dim=1)\n",
    "        \n",
    "        # Negative samples using unigram distribution\n",
    "        unigram_dist = torch.tensor([word_freq.get(i, 1e-5) ** 0.75 for i in range(vocab_size)], device=targets.device)\n",
    "        unigram_dist /= unigram_dist.sum()\n",
    "        noise = torch.multinomial(unigram_dist, batch_size * num_neg, replacement=True).view(batch_size, num_neg)\n",
    "        \n",
    "        neg_scores = (self.out_emb(noise) * target_emb.unsqueeze(1)).sum(dim=2)\n",
    "\n",
    "        # NCE loss\n",
    "        pos_loss = F.logsigmoid(pos_scores).mean()\n",
    "        neg_loss = F.logsigmoid(-neg_scores).mean()\n",
    "        return -(pos_loss + neg_loss)\n",
    "\n",
    "# Initialize Model, Optimizer, and Dataloader\n",
    "device = torch.device(\"cuda\" if torch.cuda.is_available() else \"cpu\")\n",
    "# model = SkipGram().to(device)\n",
    "model = SkipGram().to(device) \n",
    "optimizer = optim.Adam(model.parameters(), lr=0.002)\n",
    "\n",
    "dataset = SkipGramDataset()\n",
    "dataloader = DataLoader(dataset, batch_size=512, shuffle=True, num_workers=2, pin_memory=True)\n",
    "\n",
    "# Training Loop\n",
    "print(\"\\nTraining SkipGram...\")\n",
    "for epoch in range(20):\n",
    "    total_loss = 0\n",
    "    for target, context in tqdm(dataloader, desc=f\"Epoch {epoch+1}\"):\n",
    "        target, context = target.to(device), context.to(device)\n",
    "        optimizer.zero_grad()\n",
    "        loss = model(target, context)\n",
    "        loss.backward()\n",
    "        optimizer.step()\n",
    "        total_loss += loss.item()\n",
    "    \n",
    "    print(f\"Loss: {total_loss / len(dataloader):.4f}\")  # Corrected loss normalization\n",
    "\n",
    "\n",
    "# Save embeddings (average input/output)\n",
    "skipgram_emb = (model.in_emb.weight + model.out_emb.weight) / 2\n",
    "skipgram_emb = F.normalize(skipgram_emb, p=2, dim=1).detach().cpu()\n",
    "torch.save(skipgram_emb, 'skipgram.pt')\n",
    "\n",
    "# ======================\n",
    "# 5. Evaluation\n",
    "# ======================\n",
    "def evaluate_model(embeddings, model_name):\n",
    "    if isinstance(embeddings, str):\n",
    "        embeddings = torch.load(embeddings)\n",
    "    embeddings = F.normalize(embeddings, p=2, dim=1)\n",
    "    \n",
    "    df = pd.read_csv('/kaggle/input/wordsim353/wordsim353.csv')\n",
    "    valid_pairs = 0\n",
    "    human, model_scores = [], []\n",
    "    \n",
    "    for _, row in df.iterrows():\n",
    "        w1 = row['word1'].lower().strip()\n",
    "        w2 = row['word2'].lower().strip()\n",
    "        score = row['score'] if 'score' in row else row['Human (mean)']\n",
    "        \n",
    "        if w1 in word2id and w2 in word2id:\n",
    "            idx1, idx2 = word2id[w1], word2id[w2]\n",
    "            if idx1 < len(embeddings) and idx2 < len(embeddings):\n",
    "                vec1 = embeddings[idx1]\n",
    "                vec2 = embeddings[idx2]\n",
    "                cos_sim = torch.dot(vec1, vec2).item()\n",
    "                human.append(score)\n",
    "                model_scores.append(cos_sim)\n",
    "                valid_pairs += 1\n",
    "    \n",
    "    rho, _ = spearmanr(human, model_scores)\n",
    "    print(f\"{model_name}: Spearman ρ: {rho:.4f} | Valid pairs: {valid_pairs}/{len(df)}\")\n",
    "    return rho, valid_pairs  # <-- CRITICAL RETURN STATEMENT\n",
    "\n",
    "# Evaluate all models\n",
    "evaluate_model(svd_embeddings, \"SVD\")\n",
    "evaluate_model(cbow_emb, \"CBOW\")\n",
    "for word, idx in word2id.items():\n",
    "    if idx >= len(skipgram_emb):\n",
    "        print(f\"Error: '{word}' has index {idx} but embeddings only have size {len(skipgram_emb)}\")\n",
    "skipgram_emb = torch.load('skipgram.pt')\n",
    "evaluate_model(skipgram_emb, \"SkipGram\")"
   ]
  },
  {
   "cell_type": "code",
   "execution_count": 3,
   "metadata": {
    "execution": {
     "iopub.execute_input": "2025-02-24T22:51:08.955209Z",
     "iopub.status.busy": "2025-02-24T22:51:08.954869Z",
     "iopub.status.idle": "2025-02-24T22:51:09.096053Z",
     "shell.execute_reply": "2025-02-24T22:51:09.095124Z",
     "shell.execute_reply.started": "2025-02-24T22:51:08.955183Z"
    },
    "trusted": true
   },
   "outputs": [
    {
     "name": "stdout",
     "output_type": "stream",
     "text": [
      "Generated svd_results.csv with 274 valid pairs\n",
      "Generated cbow_results.csv with 274 valid pairs\n",
      "Generated skipgram_results.csv with 274 valid pairs\n"
     ]
    }
   ],
   "source": [
    "import pandas as pd\n",
    "from scipy.stats import spearmanr\n",
    "\n",
    "def generate_wordsim_csv(embeddings, model_name, output_csv=\"wordsim_results.csv\"):\n",
    "    \"\"\"\n",
    "    Generate CSV with word pairs, cosine similarities, human scores, and Spearman correlation\n",
    "    embeddings: Torch tensor of word embeddings\n",
    "    model_name: Name of the model (e.g., \"SVD\", \"CBOW\")\n",
    "    output_csv: Output CSV filename\n",
    "    \"\"\"\n",
    "    # Normalize embeddings\n",
    "    embeddings = F.normalize(embeddings, p=2, dim=1)\n",
    "    \n",
    "    # Load WordSim-353 dataset\n",
    "    df = pd.read_csv('/kaggle/input/wordsim353/wordsim353.csv')\n",
    "    \n",
    "    # Prepare results container\n",
    "    results = []\n",
    "    valid_pairs = 0\n",
    "    \n",
    "    # Process each pair\n",
    "    for _, row in df.iterrows():\n",
    "        w1 = row['word1'].lower().strip()\n",
    "        w2 = row['word2'].lower().strip()\n",
    "        human_score = row.get('score', row.get('Human (mean)', 0))\n",
    "        \n",
    "        if w1 in word2id and w2 in word2id:\n",
    "            idx1, idx2 = word2id[w1], word2id[w2]\n",
    "            \n",
    "            if idx1 < embeddings.shape[0] and idx2 < embeddings.shape[0]:\n",
    "                vec1 = embeddings[idx1]\n",
    "                vec2 = embeddings[idx2]\n",
    "                cos_sim = torch.dot(vec1, vec2).item()\n",
    "                \n",
    "                results.append({\n",
    "                    'word1': w1,\n",
    "                    'word2': w2,\n",
    "                    'cosine_similarity': cos_sim,\n",
    "                    'human_score': human_score\n",
    "                })\n",
    "                valid_pairs += 1\n",
    "    \n",
    "    # Create DataFrame and calculate Spearman\n",
    "    results_df = pd.DataFrame(results)\n",
    "    if not results_df.empty:\n",
    "        rho, _ = spearmanr(results_df['cosine_similarity'], results_df['human_score'])\n",
    "        \n",
    "        # Add Spearman row\n",
    "        spearman_row = pd.DataFrame([{\n",
    "            'word1': '[Spearman Correlation]',\n",
    "            'word2': '',\n",
    "            'cosine_similarity': rho,\n",
    "            'human_score': ''\n",
    "        }])\n",
    "        \n",
    "        final_df = pd.concat([results_df, spearman_row], ignore_index=True)\n",
    "    else:\n",
    "        final_df = results_df\n",
    "    \n",
    "    # Save to CSV\n",
    "    final_df.to_csv(output_csv, index=False)\n",
    "    print(f\"Generated {output_csv} with {valid_pairs} valid pairs\")\n",
    "    return final_df\n",
    "\n",
    "# Usage example\n",
    "svd_results = generate_wordsim_csv(svd_embeddings, \"SVD\", \"svd_results.csv\")\n",
    "cbow_results = generate_wordsim_csv(cbow_emb, \"CBOW\", \"cbow_results.csv\")\n",
    "skipgram_results = generate_wordsim_csv(skipgram_emb, \"SkipGram\", \"skipgram_results.csv\")"
   ]
  },
  {
   "cell_type": "code",
   "execution_count": null,
   "metadata": {
    "execution": {
     "iopub.execute_input": "2025-02-24T22:51:19.308468Z",
     "iopub.status.busy": "2025-02-24T22:51:19.308155Z",
     "iopub.status.idle": "2025-02-24T22:51:19.317405Z",
     "shell.execute_reply": "2025-02-24T22:51:19.316362Z",
     "shell.execute_reply.started": "2025-02-24T22:51:19.308442Z"
    },
    "trusted": true
   },
   "outputs": [
    {
     "ename": "IndentationError",
     "evalue": "expected an indented block after 'for' statement on line 13 (<ipython-input-4-3cf1ae73f853>, line 15)",
     "output_type": "error",
     "traceback": [
      "\u001b[0;36m  File \u001b[0;32m\"<ipython-input-4-3cf1ae73f853>\"\u001b[0;36m, line \u001b[0;32m15\u001b[0m\n\u001b[0;31m    epoch_loss = total_loss/len(dataloader)\u001b[0m\n\u001b[0m    ^\u001b[0m\n\u001b[0;31mIndentationError\u001b[0m\u001b[0;31m:\u001b[0m expected an indented block after 'for' statement on line 13\n"
     ]
    }
   ],
   "source": [
    "import matplotlib.pyplot as plt\n",
    "\n",
    "# ===========================================\n",
    "# 1. Modify Training Loops to Record Losses\n",
    "# ===========================================\n",
    "\n",
    "# CBOW Training (modify existing loop)\n",
    "cbow_losses = []\n",
    "print(\"\\nTraining CBOW...\")\n",
    "for epoch in range(30):\n",
    "    model.train()\n",
    "    total_loss = 0\n",
    "    for contexts, targets in tqdm(dataloader):\n",
    "        # ... existing training code ...\n",
    "        epoch_loss = total_loss/len(dataloader)\n",
    "        cbow_losses.append(epoch_loss)  # Record loss\n",
    "        print(f\"Epoch {epoch+1} Loss: {epoch_loss:.4f}\")\n",
    "\n",
    "# Skip-Gram Training (modify existing loop)\n",
    "skipgram_losses = []\n",
    "print(\"\\nTraining SkipGram...\")\n",
    "for epoch in range(20):\n",
    "    total_loss = 0\n",
    "    for target, context in tqdm(dataloader):\n",
    "        # ... existing training code ...\n",
    "        epoch_loss = total_loss/len(dataloader)\n",
    "        skipgram_losses.append(epoch_loss)  # Record loss\n",
    "        print(f\"Epoch {epoch+1} Loss: {epoch_loss:.4f}\")\n",
    "\n",
    "# ===========================================\n",
    "# 2. Plot Training Curves\n",
    "# ===========================================\n",
    "\n",
    "plt.figure(figsize=(12, 5))\n",
    "\n",
    "# CBOW Loss Curve\n",
    "plt.subplot(1, 2, 1)\n",
    "plt.plot(range(1, len(cbow_losses)+1), cbow_losses, 'b-o', linewidth=2)\n",
    "plt.title(\"CBOW Training Loss\")\n",
    "plt.xlabel(\"Epoch\")\n",
    "plt.ylabel(\"Loss\")\n",
    "plt.grid(True)\n",
    "\n",
    "# Skip-Gram Loss Curve\n",
    "plt.subplot(1, 2, 2)\n",
    "plt.plot(range(1, len(skipgram_losses)+1), skipgram_losses, 'r-s', linewidth=2)\n",
    "plt.title(\"Skip-Gram Training Loss\")\n",
    "plt.xlabel(\"Epoch\")\n",
    "plt.ylabel(\"Loss\")\n",
    "plt.grid(True)\n",
    "\n",
    "plt.tight_layout()\n",
    "plt.savefig('training_curves.png')\n",
    "plt.close()\n",
    "\n",
    "# ===========================================\n",
    "# 3. Plot Spearman Comparison\n",
    "# ===========================================\n",
    "\n",
    "# Get Spearman scores from evaluation\n",
    "svd_rho = 0.42  # Replace with actual value from your evaluation\n",
    "cbow_rho = 0.58  # Replace with actual value\n",
    "skipgram_rho = 0.62  # Replace with actual value\n",
    "\n",
    "models = ['SVD', 'CBOW', 'Skip-Gram']\n",
    "scores = [svd_rho, cbow_rho, skipgram_rho]\n",
    "\n",
    "plt.figure(figsize=(8, 6))\n",
    "bars = plt.bar(models, scores, color=['#1f77b4', '#ff7f0e', '#2ca02c'])\n",
    "\n",
    "plt.title(\"Spearman Rank Correlation Comparison\")\n",
    "plt.ylabel(\"Spearman ρ\")\n",
    "plt.ylim(0, 0.7)\n",
    "\n",
    "# Add value labels\n",
    "for bar in bars:\n",
    "    height = bar.get_height()\n",
    "    plt.text(bar.get_x() + bar.get_width()/2., height,\n",
    "             f'{height:.2f}',\n",
    "             ha='center', va='bottom')\n",
    "\n",
    "plt.grid(axis='y', linestyle='--', alpha=0.7)\n",
    "plt.savefig('spearman_comparison.png')\n",
    "plt.close()"
   ]
  },
  {
   "cell_type": "code",
   "execution_count": 6,
   "metadata": {
    "execution": {
     "iopub.execute_input": "2025-02-24T22:51:54.530148Z",
     "iopub.status.busy": "2025-02-24T22:51:54.529845Z",
     "iopub.status.idle": "2025-02-24T22:51:54.921063Z",
     "shell.execute_reply": "2025-02-24T22:51:54.920206Z",
     "shell.execute_reply.started": "2025-02-24T22:51:54.530126Z"
    },
    "trusted": true
   },
   "outputs": [
    {
     "name": "stderr",
     "output_type": "stream",
     "text": [
      "<ipython-input-6-70f84238302f>:3: FutureWarning: You are using `torch.load` with `weights_only=False` (the current default value), which uses the default pickle module implicitly. It is possible to construct malicious pickle data which will execute arbitrary code during unpickling (See https://github.com/pytorch/pytorch/blob/main/SECURITY.md#untrusted-models for more details). In a future release, the default value for `weights_only` will be flipped to `True`. This limits the functions that could be executed during unpickling. Arbitrary objects will no longer be allowed to be loaded via this mode unless they are explicitly allowlisted by the user via `torch.serialization.add_safe_globals`. We recommend you start setting `weights_only=True` for any use case where you don't have full control of the loaded file. Please open an issue on GitHub for any issues related to this experimental feature.\n",
      "  svd_emb = torch.load('svd.pt')\n",
      "<ipython-input-6-70f84238302f>:4: FutureWarning: You are using `torch.load` with `weights_only=False` (the current default value), which uses the default pickle module implicitly. It is possible to construct malicious pickle data which will execute arbitrary code during unpickling (See https://github.com/pytorch/pytorch/blob/main/SECURITY.md#untrusted-models for more details). In a future release, the default value for `weights_only` will be flipped to `True`. This limits the functions that could be executed during unpickling. Arbitrary objects will no longer be allowed to be loaded via this mode unless they are explicitly allowlisted by the user via `torch.serialization.add_safe_globals`. We recommend you start setting `weights_only=True` for any use case where you don't have full control of the loaded file. Please open an issue on GitHub for any issues related to this experimental feature.\n",
      "  cbow_emb = torch.load('cbow.pt')\n",
      "<ipython-input-6-70f84238302f>:5: FutureWarning: You are using `torch.load` with `weights_only=False` (the current default value), which uses the default pickle module implicitly. It is possible to construct malicious pickle data which will execute arbitrary code during unpickling (See https://github.com/pytorch/pytorch/blob/main/SECURITY.md#untrusted-models for more details). In a future release, the default value for `weights_only` will be flipped to `True`. This limits the functions that could be executed during unpickling. Arbitrary objects will no longer be allowed to be loaded via this mode unless they are explicitly allowlisted by the user via `torch.serialization.add_safe_globals`. We recommend you start setting `weights_only=True` for any use case where you don't have full control of the loaded file. Please open an issue on GitHub for any issues related to this experimental feature.\n",
      "  skipgram_emb = torch.load('skipgram.pt')\n"
     ]
    },
    {
     "name": "stdout",
     "output_type": "stream",
     "text": [
      "SVD: Spearman ρ: 0.2408 | Valid pairs: 274/353\n",
      "CBOW: Spearman ρ: 0.3261 | Valid pairs: 274/353\n",
      "SkipGram: Spearman ρ: 0.4084 | Valid pairs: 274/353\n"
     ]
    },
    {
     "data": {
      "image/png": "[encoded data removed]",
      "text/plain": [
       "<Figure size 640x480 with 1 Axes>"
      ]
     },
     "metadata": {},
     "output_type": "display_data"
    }
   ],
   "source": [
    "# Load embeddings\n",
    "import matplotlib.pyplot as plt\n",
    "svd_emb = torch.load('svd.pt')\n",
    "cbow_emb = torch.load('cbow.pt')\n",
    "skipgram_emb = torch.load('skipgram.pt')\n",
    "\n",
    "# Get Spearman scores\n",
    "svd_rho, _ = evaluate_model(svd_emb, \"SVD\")\n",
    "cbow_rho, _ = evaluate_model(cbow_emb, \"CBOW\")\n",
    "skipgram_rho, _ = evaluate_model(skipgram_emb, \"SkipGram\")\n",
    "\n",
    "# Plot using the code from earlier\n",
    "models = ['SVD', 'CBOW', 'Skip-Gram']\n",
    "scores = [svd_rho, cbow_rho, skipgram_rho]\n",
    "plt.bar(models, scores)\n",
    "plt.savefig('spearman.png')"
   ]
  }
 ],
 "metadata": {
  "kaggle": {
   "accelerator": "gpu",
   "dataSources": [
    {
     "datasetId": 6724244,
     "sourceId": 10829204,
     "sourceType": "datasetVersion"
    }
   ],
   "dockerImageVersionId": 30919,
   "isGpuEnabled": true,
   "isInternetEnabled": true,
   "language": "python",
   "sourceType": "notebook"
  },
  "kernelspec": {
   "display_name": "Python 3",
   "language": "python",
   "name": "python3"
  },
  "language_info": {
   "codemirror_mode": {
    "name": "ipython",
    "version": 3
   },
   "file_extension": ".py",
   "mimetype": "text/x-python",
   "name": "python",
   "nbconvert_exporter": "python",
   "pygments_lexer": "ipython3",
   "version": "3.10.12"
  }
 },
 "nbformat": 4,
 "nbformat_minor": 4
}
